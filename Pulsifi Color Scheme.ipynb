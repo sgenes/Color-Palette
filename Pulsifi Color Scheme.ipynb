{
 "cells": [
  {
   "cell_type": "markdown",
   "metadata": {
    "Collapsed": "false"
   },
   "source": [
    "## Setup"
   ]
  },
  {
   "cell_type": "code",
   "execution_count": 1,
   "metadata": {
    "Collapsed": "false"
   },
   "outputs": [],
   "source": [
    "import numpy as np\n",
    "import pandas as pd\n",
    "import math\n",
    "\n",
    "import colorsys\n",
    "import matplotlib as mpl\n",
    "import matplotlib.pyplot as plt\n",
    "import seaborn as sns\n",
    "from scipy.stats import norm\n",
    "from sklearn.utils.extmath import cartesian\n",
    "\n",
    "sns.set()"
   ]
  },
  {
   "cell_type": "code",
   "execution_count": 2,
   "metadata": {
    "Collapsed": "false"
   },
   "outputs": [],
   "source": [
    "pd.set_option('display.max_columns', None)"
   ]
  },
  {
   "cell_type": "code",
   "execution_count": 297,
   "metadata": {
    "Collapsed": "false"
   },
   "outputs": [],
   "source": [
    "data = pd.read_csv('pulsifi_colors.csv')\n",
    "data.drop(columns='Unnamed: 0', inplace=True)"
   ]
  },
  {
   "cell_type": "code",
   "execution_count": 260,
   "metadata": {
    "Collapsed": "false"
   },
   "outputs": [],
   "source": [
    "# data = pd.read_csv('1384367562_colors_in_9_langages.csv', usecols=[0,1,2,3,20,21,21,23,24])\n",
    "# data = data.sort_values(['cx', 'cy']).reset_index().rename(columns={'index': 'order'})"
   ]
  },
  {
   "cell_type": "markdown",
   "metadata": {
    "Collapsed": "false"
   },
   "source": [
    "### Plotting Data"
   ]
  },
  {
   "cell_type": "code",
   "execution_count": 261,
   "metadata": {
    "Collapsed": "false"
   },
   "outputs": [],
   "source": [
    "# data.sort_values(['cx', 'cy'])\n",
    "# target = data['RGB']"
   ]
  },
  {
   "cell_type": "code",
   "execution_count": 262,
   "metadata": {
    "Collapsed": "false"
   },
   "outputs": [],
   "source": [
    "# fig, ax = plt.subplots(figsize = (10,10))\n",
    "# ax.scatter(data['cx'], data['cy'], c =target)"
   ]
  },
  {
   "cell_type": "markdown",
   "metadata": {
    "Collapsed": "false"
   },
   "source": [
    "### Scaling the Data"
   ]
  },
  {
   "cell_type": "code",
   "execution_count": 300,
   "metadata": {
    "Collapsed": "false"
   },
   "outputs": [
    {
     "data": {
      "text/html": [
       "<div>\n",
       "<style scoped>\n",
       "    .dataframe tbody tr th:only-of-type {\n",
       "        vertical-align: middle;\n",
       "    }\n",
       "\n",
       "    .dataframe tbody tr th {\n",
       "        vertical-align: top;\n",
       "    }\n",
       "\n",
       "    .dataframe thead th {\n",
       "        text-align: right;\n",
       "    }\n",
       "</style>\n",
       "<table border=\"1\" class=\"dataframe\">\n",
       "  <thead>\n",
       "    <tr style=\"text-align: right;\">\n",
       "      <th></th>\n",
       "      <th>order</th>\n",
       "      <th>r</th>\n",
       "      <th>g</th>\n",
       "      <th>b</th>\n",
       "      <th>h</th>\n",
       "      <th>s</th>\n",
       "      <th>v</th>\n",
       "      <th>names</th>\n",
       "    </tr>\n",
       "  </thead>\n",
       "  <tbody>\n",
       "    <tr>\n",
       "      <th>0</th>\n",
       "      <td>10</td>\n",
       "      <td>255</td>\n",
       "      <td>240</td>\n",
       "      <td>241</td>\n",
       "      <td>356</td>\n",
       "      <td>6</td>\n",
       "      <td>100</td>\n",
       "      <td>red1</td>\n",
       "    </tr>\n",
       "    <tr>\n",
       "      <th>1</th>\n",
       "      <td>11</td>\n",
       "      <td>255</td>\n",
       "      <td>237</td>\n",
       "      <td>239</td>\n",
       "      <td>353</td>\n",
       "      <td>7</td>\n",
       "      <td>100</td>\n",
       "      <td>red2</td>\n",
       "    </tr>\n",
       "    <tr>\n",
       "      <th>2</th>\n",
       "      <td>12</td>\n",
       "      <td>255</td>\n",
       "      <td>196</td>\n",
       "      <td>204</td>\n",
       "      <td>352</td>\n",
       "      <td>23</td>\n",
       "      <td>100</td>\n",
       "      <td>red3</td>\n",
       "    </tr>\n",
       "  </tbody>\n",
       "</table>\n",
       "</div>"
      ],
      "text/plain": [
       "   order    r    g    b    h   s    v names\n",
       "0     10  255  240  241  356   6  100  red1\n",
       "1     11  255  237  239  353   7  100  red2\n",
       "2     12  255  196  204  352  23  100  red3"
      ]
     },
     "execution_count": 300,
     "metadata": {},
     "output_type": "execute_result"
    }
   ],
   "source": [
    "data.head(3)"
   ]
  },
  {
   "cell_type": "code",
   "execution_count": 265,
   "metadata": {
    "Collapsed": "false"
   },
   "outputs": [],
   "source": [
    "from sklearn.preprocessing import MinMaxScaler\n",
    "scaler = MinMaxScaler()\n",
    "data['scaled_order'] = scaler.fit_transform(data['order'].values.reshape(-1, 1))"
   ]
  },
  {
   "cell_type": "markdown",
   "metadata": {
    "Collapsed": "false"
   },
   "source": [
    "## Random Forest Regressor"
   ]
  },
  {
   "cell_type": "markdown",
   "metadata": {
    "Collapsed": "false"
   },
   "source": [
    "Idea: Use Random Forest Regressor for every R, G, B colors as input (from 0 to 1 - rescaled from 0 to 255) and spit out the R, G, B in the spectrum"
   ]
  },
  {
   "cell_type": "code",
   "execution_count": 266,
   "metadata": {
    "Collapsed": "false"
   },
   "outputs": [],
   "source": [
    "from sklearn.ensemble import RandomForestRegressor"
   ]
  },
  {
   "cell_type": "code",
   "execution_count": 267,
   "metadata": {
    "Collapsed": "false"
   },
   "outputs": [],
   "source": [
    "ranking = data.scaled_order.values.reshape(-1, 1)"
   ]
  },
  {
   "cell_type": "code",
   "execution_count": 268,
   "metadata": {
    "Collapsed": "false"
   },
   "outputs": [
    {
     "data": {
      "text/plain": [
       "RandomForestRegressor(bootstrap=True, ccp_alpha=0.0, criterion='mse',\n",
       "                      max_depth=None, max_features='auto', max_leaf_nodes=None,\n",
       "                      max_samples=None, min_impurity_decrease=0.0,\n",
       "                      min_impurity_split=None, min_samples_leaf=1,\n",
       "                      min_samples_split=2, min_weight_fraction_leaf=0.0,\n",
       "                      n_estimators=10, n_jobs=None, oob_score=False,\n",
       "                      random_state=0, verbose=0, warm_start=False)"
      ]
     },
     "execution_count": 268,
     "metadata": {},
     "output_type": "execute_result"
    }
   ],
   "source": [
    "reds = RandomForestRegressor(n_estimators = 10, random_state = 0)\n",
    "reds.fit(ranking, data['r'])\n",
    "\n",
    "greens = RandomForestRegressor(n_estimators = 10, random_state= 0)\n",
    "greens.fit(ranking, data['g'])\n",
    "\n",
    "blues = RandomForestRegressor(n_estimators= 10, random_state=0)\n",
    "blues.fit(ranking, data['b'])"
   ]
  },
  {
   "cell_type": "code",
   "execution_count": 269,
   "metadata": {
    "Collapsed": "false"
   },
   "outputs": [
    {
     "data": {
      "text/plain": [
       "0.00735"
      ]
     },
     "execution_count": 269,
     "metadata": {},
     "output_type": "execute_result"
    }
   ],
   "source": [
    "0.0147/2"
   ]
  },
  {
   "cell_type": "code",
   "execution_count": 270,
   "metadata": {
    "Collapsed": "false"
   },
   "outputs": [],
   "source": [
    "max_increase = 40\n",
    "value_list = []\n",
    "\n",
    "def counter(value):\n",
    "    counter = 0\n",
    "    while counter < max_increase:\n",
    "        value += 0.00735\n",
    "        value_list.append(round(value, 4))\n",
    "        counter += 1"
   ]
  },
  {
   "cell_type": "code",
   "execution_count": 271,
   "metadata": {
    "Collapsed": "false"
   },
   "outputs": [],
   "source": [
    "counter(0.15)"
   ]
  },
  {
   "cell_type": "code",
   "execution_count": 272,
   "metadata": {
    "Collapsed": "false"
   },
   "outputs": [
    {
     "data": {
      "text/plain": [
       "[0.1573,\n",
       " 0.1647,\n",
       " 0.172,\n",
       " 0.1794,\n",
       " 0.1867,\n",
       " 0.1941,\n",
       " 0.2014,\n",
       " 0.2088,\n",
       " 0.2161,\n",
       " 0.2235,\n",
       " 0.2308,\n",
       " 0.2382,\n",
       " 0.2455,\n",
       " 0.2529,\n",
       " 0.2602,\n",
       " 0.2676,\n",
       " 0.275,\n",
       " 0.2823,\n",
       " 0.2897,\n",
       " 0.297,\n",
       " 0.3044,\n",
       " 0.3117,\n",
       " 0.3191,\n",
       " 0.3264,\n",
       " 0.3338,\n",
       " 0.3411,\n",
       " 0.3485,\n",
       " 0.3558,\n",
       " 0.3632,\n",
       " 0.3705,\n",
       " 0.3779,\n",
       " 0.3852,\n",
       " 0.3926,\n",
       " 0.3999,\n",
       " 0.4073,\n",
       " 0.4146,\n",
       " 0.422,\n",
       " 0.4293,\n",
       " 0.4367,\n",
       " 0.444]"
      ]
     },
     "execution_count": 272,
     "metadata": {},
     "output_type": "execute_result"
    }
   ],
   "source": [
    "value_list"
   ]
  },
  {
   "cell_type": "code",
   "execution_count": 273,
   "metadata": {
    "Collapsed": "false"
   },
   "outputs": [],
   "source": [
    "predicted_frame = []\n",
    "temp_frame = []\n",
    "\n",
    "def predict_rgb(value_to_rgb):\n",
    "    \"\"\"\n",
    "    For a list of input values (0 to 1) output the RGB values and append it to a list of lists.\n",
    "\n",
    "    \"\"\"\n",
    "    for values in value_to_rgb:\n",
    "        \n",
    "        res_r = str(reds.predict([[values]])[0])\n",
    "        if len(res_r)==5:\n",
    "            res_r = res_r[:3] # int(res_r[:3])\n",
    "        else:\n",
    "            res_r = res_r[:2] # int(res_r[:2])\n",
    "\n",
    "        res_g = str(greens.predict([[values]])[0])\n",
    "        if len(res_g)==5:\n",
    "            res_g = res_g[:3] # int(res_g[:3])\n",
    "        else:\n",
    "            res_g = res_g[:2] # int(res_g[:2])\n",
    "\n",
    "        res_b = str(blues.predict([[values]])[0])\n",
    "        if len(res_b)==5:\n",
    "            res_b = res_b[:3] # int(res_b[:3])\n",
    "        else:\n",
    "            res_b = res_g[:2] #int(res_b[:2])\n",
    "\n",
    "        rgb_values = (int(res_r), int(res_g), int(res_b))\n",
    "        temp_frame.append(rgb_values)\n",
    "        \n",
    "    for value in temp_frame:\n",
    "        if value not in predicted_frame:\n",
    "            predicted_frame.append(value)"
   ]
  },
  {
   "cell_type": "code",
   "execution_count": 274,
   "metadata": {
    "Collapsed": "false"
   },
   "outputs": [],
   "source": [
    "predict_rgb(value_list)"
   ]
  },
  {
   "cell_type": "code",
   "execution_count": 275,
   "metadata": {
    "Collapsed": "false"
   },
   "outputs": [
    {
     "data": {
      "text/plain": [
       "[(255, 233, 235),\n",
       " (255, 228, 232),\n",
       " (255, 204, 211),\n",
       " (255, 196, 204),\n",
       " (255, 180, 191),\n",
       " (255, 163, 179),\n",
       " (247, 103, 134),\n",
       " (246, 99, 130),\n",
       " (216, 60, 60),\n",
       " (196, 45, 45),\n",
       " (169, 32, 32),\n",
       " (135, 21, 21),\n",
       " (120, 17, 17),\n",
       " (117, 37, 37),\n",
       " (130, 60, 60),\n",
       " (209, 177, 177),\n",
       " (238, 209, 182),\n",
       " (255, 220, 175),\n",
       " (255, 216, 167),\n",
       " (255, 194, 126),\n",
       " (255, 180, 101),\n",
       " (255, 170, 17),\n",
       " (251, 153, 15),\n",
       " (236, 129, 12),\n",
       " (216, 108, 10),\n",
       " (182, 81, 81),\n",
       " (159, 65, 65),\n",
       " (140, 52, 52),\n",
       " (132, 48, 48),\n",
       " (121, 43, 43),\n",
       " (167, 123, 12),\n",
       " (224, 209, 188)]"
      ]
     },
     "execution_count": 275,
     "metadata": {},
     "output_type": "execute_result"
    }
   ],
   "source": [
    "predicted_frame"
   ]
  },
  {
   "cell_type": "code",
   "execution_count": 278,
   "metadata": {
    "Collapsed": "false"
   },
   "outputs": [
    {
     "data": {
      "image/png": "[encoded data removed]",
      "text/plain": [
       "<Figure size 1800x1080 with 2 Axes>"
      ]
     },
     "metadata": {},
     "output_type": "display_data"
    }
   ],
   "source": [
    "plt.figure(figsize=(25,15))\n",
    "plt.imshow([predicted_frame])\n",
    "plt.colorbar()\n",
    "plt.show()"
   ]
  },
  {
   "cell_type": "code",
   "execution_count": null,
   "metadata": {
    "Collapsed": "false"
   },
   "outputs": [],
   "source": []
  },
  {
   "cell_type": "code",
   "execution_count": 225,
   "metadata": {
    "Collapsed": "false"
   },
   "outputs": [],
   "source": [
    "# Import tools needed for visualization\n",
    "from sklearn.tree import export_graphviz\n",
    "import pydot\n",
    "\n",
    "# Pull out one tree from the forest\n",
    "tree = regressor.estimators_[5]\n",
    "\n",
    "# Export the image to a dot file\n",
    "export_graphviz(tree, out_file = 'tree.dot', feature_names = 'r', rounded = True, precision = 1)\n",
    "\n",
    "# Use dot file to create a graph\n",
    "(graph, ) = pydot.graph_from_dot_file('tree.dot')\n",
    "\n",
    "graph.write_png('tree.png')"
   ]
  },
  {
   "cell_type": "code",
   "execution_count": null,
   "metadata": {
    "Collapsed": "false"
   },
   "outputs": [],
   "source": []
  },
  {
   "cell_type": "code",
   "execution_count": null,
   "metadata": {
    "Collapsed": "false"
   },
   "outputs": [],
   "source": []
  },
  {
   "cell_type": "code",
   "execution_count": null,
   "metadata": {
    "Collapsed": "false"
   },
   "outputs": [],
   "source": []
  }
 ],
 "metadata": {
  "kernelspec": {
   "display_name": "Python 3",
   "language": "python",
   "name": "python3"
  },
  "language_info": {
   "codemirror_mode": {
    "name": "ipython",
    "version": 3
   },
   "file_extension": ".py",
   "mimetype": "text/x-python",
   "name": "python",
   "nbconvert_exporter": "python",
   "pygments_lexer": "ipython3",
   "version": "3.8.1"
  }
 },
 "nbformat": 4,
 "nbformat_minor": 4
}
